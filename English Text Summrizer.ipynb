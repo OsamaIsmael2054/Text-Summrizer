{
 "cells": [
  {
   "cell_type": "code",
   "execution_count": 43,
   "id": "d4c02d68",
   "metadata": {},
   "outputs": [],
   "source": [
    "import tensorflow as tf\n",
    "import pandas as pd\n",
    "import tensorflow_datasets as tfds\n",
    "import os\n",
    "import matplotlib.pyplot as plt\n",
    "import matplotlib.ticker as ticker\n",
    "import numpy as np"
   ]
  },
  {
   "cell_type": "code",
   "execution_count": 2,
   "id": "d0744333",
   "metadata": {},
   "outputs": [],
   "source": [
    "from tensorflow import keras\n",
    "from tensorflow.keras import layers"
   ]
  },
  {
   "cell_type": "code",
   "execution_count": 3,
   "id": "86cabe0e",
   "metadata": {},
   "outputs": [],
   "source": [
    "def load_data():\n",
    "    print(\" Loading the dataset\")\n",
    "    (ds_train, ds_val, ds_test), ds_info = tfds.load(\n",
    "        'gigaword',\n",
    "        split=['train', 'validation', 'test'],\n",
    "        shuffle_files=True,\n",
    "        as_supervised=True,\n",
    "        with_info=True,\n",
    "    )\n",
    "    return ds_train, ds_val, ds_test"
   ]
  },
  {
   "cell_type": "code",
   "execution_count": 4,
   "id": "596f60e1",
   "metadata": {},
   "outputs": [
    {
     "name": "stdout",
     "output_type": "stream",
     "text": [
      " Loading the dataset\n"
     ]
    }
   ],
   "source": [
    "ds_train, _, _ = load_data()"
   ]
  },
  {
   "cell_type": "markdown",
   "id": "cfdc3ac5",
   "metadata": {},
   "source": [
    "The Gigaword dataset has been already cleaned, normalized, and tokenized using\n",
    "the StanfordNLP tokenizer. All the data is converted into lowercase and normalized\n",
    "using the StanfordNLP tokenizer"
   ]
  },
  {
   "cell_type": "markdown",
   "id": "bb9cbd39",
   "metadata": {},
   "source": [
    "### Preprocessing"
   ]
  },
  {
   "cell_type": "markdown",
   "id": "a6b23ead",
   "metadata": {},
   "source": [
    "This method checks to see if a subword tokenizer is saved and loads it. If no\n",
    "tokenizer exists on disk, it creates one by feeding in the articles and summaries\n",
    "combined."
   ]
  },
  {
   "cell_type": "code",
   "execution_count": 5,
   "id": "758d92f3",
   "metadata": {},
   "outputs": [],
   "source": [
    "def get_tokenizer(data, file=\"gigaword32k.enc\"):\n",
    "    if os.path.exists(file+\".subwords\"):\n",
    "        #check if the tokenizer already exists\n",
    "        tokenizer = tfds.deprecated.text.SubwordTextEncoder.load_from_file(file)\n",
    "    else:\n",
    "        tokenizer = tfds.features.text.SubwordTextEncoder.build_from_corpus(((art.numpy() + b\" \" + smm.numpy()) for art, smm in data)\n",
    "                                                                            ,target_vocab_size=2**15) # End tokenizer construction\n",
    "        tokenizer.save_to_file(file) # save for future iterations\n",
    "    print(\"Tokenizer ready. Total vocabulary size: \", tokenizer.vocab_size)\n",
    "    return tokenizer"
   ]
  },
  {
   "cell_type": "code",
   "execution_count": 6,
   "id": "53206925",
   "metadata": {},
   "outputs": [
    {
     "name": "stdout",
     "output_type": "stream",
     "text": [
      "Tokenizer ready. Total vocabulary size:  32897\n"
     ]
    }
   ],
   "source": [
    "tokenizer = get_tokenizer(ds_train)"
   ]
  },
  {
   "cell_type": "code",
   "execution_count": 7,
   "id": "c70ad1d0",
   "metadata": {},
   "outputs": [
    {
     "name": "stdout",
     "output_type": "stream",
     "text": [
      "16166 ----> corona\n",
      "2342 ----> virus \n",
      "1980 ----> spread \n",
      "7546 ----> surprised \n",
      "21092 ----> everyone\n"
     ]
    }
   ],
   "source": [
    "# Test tokenizer\n",
    "txt = \"Coronavirus spread surprised everyone\"\n",
    "for ts in tokenizer.encode(txt.lower()):\n",
    "    print ('{} ----> {}'.format(ts, tokenizer.decode([ts])))"
   ]
  },
  {
   "cell_type": "code",
   "execution_count": 8,
   "id": "fbc9184f",
   "metadata": {},
   "outputs": [
    {
     "name": "stdout",
     "output_type": "stream",
     "text": [
      "32898 32897\n"
     ]
    }
   ],
   "source": [
    "# add start and end of sentence tokens\n",
    "start = tokenizer.vocab_size + 1 \n",
    "end = tokenizer.vocab_size\n",
    "print(start, end)"
   ]
  },
  {
   "cell_type": "code",
   "execution_count": 9,
   "id": "2d357f95",
   "metadata": {},
   "outputs": [],
   "source": [
    "# Setup tokenization methods\n",
    "from tensorflow.keras.preprocessing import sequence\n",
    "\n",
    "def encode(article, summary, start=start, end=end, art_max_len=128, smry_max_len=50):\n",
    "    art_tokens = tokenizer.encode(article.numpy())\n",
    "    \n",
    "    # vectorize article\n",
    "    if len(art_tokens) > art_max_len:\n",
    "        art_tokens = art_tokens[:art_max_len]\n",
    "        \n",
    "    #padding with 0 till the max length of article   \n",
    "    art_enc = sequence.pad_sequences([art_tokens], padding='post',maxlen=art_max_len).squeeze()\n",
    "    \n",
    "    # vectorize summary\n",
    "    #adding start token\n",
    "    smry_tokens = [start] + tokenizer.encode(summary.numpy())\n",
    "    \n",
    "    if len(smry_tokens) > smry_max_len:\n",
    "        tokens = tokens[:smry_max_len]\n",
    "        \n",
    "    #adding end token\n",
    "    smry_tokens = smry_tokens + [end]\n",
    "    \n",
    "    #padding with 0 till the max length of summary \n",
    "    smry_enc = sequence.pad_sequences([smry_tokens], padding='post', maxlen=smry_max_len).squeeze()\n",
    "  \n",
    "    return art_enc, smry_enc\n",
    "\n",
    "# function to apply the encode on Tensorflow dataset\n",
    "# check link below\n",
    "# https://stackoverflow.com/questions/55806857/is-it-possible-to-map-a-numpy-function-to-tf-data-dataset\n",
    "def tf_encode(article, summary):\n",
    "    art_enc, smry_enc = tf.py_function(encode, [article, summary], [tf.int64, tf.int64])\n",
    "    \n",
    "    art_enc.set_shape([None])\n",
    "    smry_enc.set_shape([None])\n",
    "\n",
    "    return art_enc, smry_enc"
   ]
  },
  {
   "cell_type": "code",
   "execution_count": 22,
   "id": "21d3837d",
   "metadata": {},
   "outputs": [],
   "source": [
    "# dataset is 3.8M samples, we will choose only 100k sample from it and set batch size equal to 64\n",
    "BUFFER_SIZE = 100000 \n",
    "BATCH_SIZE = 64\n",
    "\n",
    "train = ds_train.take(BUFFER_SIZE) \n",
    "train_dataset = train.map(tf_encode)\n",
    "train_dataset = train_dataset.batch(BATCH_SIZE,drop_remainder=True)"
   ]
  },
  {
   "cell_type": "markdown",
   "id": "3aa2a730",
   "metadata": {},
   "source": [
    "now we have Train Data"
   ]
  },
  {
   "cell_type": "code",
   "execution_count": 24,
   "id": "eae61a34",
   "metadata": {},
   "outputs": [],
   "source": [
    "# Encoder\n",
    "class Encoder(tf.keras.Model):\n",
    "    def __init__(self, vocab_size, embedding_dim, enc_units, batch_size):\n",
    "        super(Encoder, self).__init__()\n",
    "        \n",
    "        self.batch_size = batch_size\n",
    "        self.enc_units = enc_units\n",
    "        \n",
    "        # Shared embedding layer\n",
    "        self.embedding = tf.keras.layers.Embedding(vocab_size, embedding_dim, mask_zero=True)\n",
    "        \n",
    "        self.bigru = layers.Bidirectional(layers.GRU(self.enc_units,return_sequences=True,\n",
    "                                              return_state=True,recurrent_initializer='glorot_uniform'),merge_mode='concat')\n",
    "        self.relu = layers.Dense(self.enc_units, activation='relu')\n",
    "        \n",
    "    def call(self, x, hidden):\n",
    "        x = self.embedding(x) \n",
    "        \n",
    "        output, forward_state, backward_state = self.bigru(x, initial_state = hidden)\n",
    "        \n",
    "        hidden_states = tf.concat([forward_state, backward_state],axis=1)\n",
    "        \n",
    "        output_state = self.relu(hidden_states)\n",
    "        \n",
    "        return output, output_state\n",
    "    \n",
    "    # init hidden state\n",
    "    def initialize_hidden_state(self):\n",
    "        return [tf.zeros((self.batch_size, self.enc_units)) for i in range(2)]"
   ]
  },
  {
   "cell_type": "code",
   "execution_count": 25,
   "id": "bfa5a40c",
   "metadata": {},
   "outputs": [],
   "source": [
    "class BahdanauAttention(tf.keras.layers.Layer):\n",
    "    def __init__(self, units):\n",
    "        super(BahdanauAttention, self).__init__()\n",
    "        self.W1 = tf.keras.layers.Dense(units)\n",
    "        self.W2 = tf.keras.layers.Dense(units)\n",
    "        self.V = tf.keras.layers.Dense(1)\n",
    "\n",
    "    def call(self, decoder_hidden, enc_output):\n",
    "\n",
    "        query = decoder_hidden \n",
    "        values = enc_output\n",
    "        \n",
    "        query_with_time_axis = tf.expand_dims(query, 1)\n",
    "    \n",
    "        score = self.V(tf.nn.tanh(self.W1(query_with_time_axis) + self.W2(values)))\n",
    "    \n",
    "        attention_weights = tf.nn.softmax(score, axis=1)\n",
    "    \n",
    "        context_vector = attention_weights * values\n",
    "        context_vector = tf.reduce_sum(context_vector, axis=1)\n",
    "    \n",
    "        return context_vector, attention_weights"
   ]
  },
  {
   "cell_type": "code",
   "execution_count": 26,
   "id": "054be4e7",
   "metadata": {},
   "outputs": [],
   "source": [
    "class Decoder(tf.keras.Model):\n",
    "    def __init__(self, vocab_size, embedding_dim, dec_units, batch_size):\n",
    "        super(Decoder, self).__init__()\n",
    "        \n",
    "        self.batch_size = batch_size\n",
    "        self.dec_units = dec_units\n",
    "\n",
    "        self.embedding = tf.keras.layers.Embedding(vocab_size, embedding_dim,\n",
    "                                                  mask_zero=True)\n",
    "        \n",
    "        self.gru = tf.keras.layers.GRU(self.dec_units,return_sequences=True,return_state=True,\n",
    "                                       recurrent_initializer='glorot_uniform')\n",
    "        \n",
    "        self.fc1 = tf.keras.layers.Dense(vocab_size, activation='softmax', name='fc1')\n",
    "\n",
    "        # used for attention\n",
    "        self.attention = BahdanauAttention(self.dec_units)\n",
    "\n",
    "    def call(self, x, hidden, enc_output):\n",
    "        \n",
    "        context_vector, attention_weights = self.attention(hidden, enc_output)\n",
    "\n",
    "        x = self.embedding(x)\n",
    "    \n",
    "        x = tf.concat([tf.expand_dims(context_vector, 1), x], axis=-1)\n",
    "    \n",
    "        output, state = self.gru(x)\n",
    "\n",
    "        output = tf.reshape(output, (-1, output.shape[2]))\n",
    "        \n",
    "        x = self.fc1(output)\n",
    "        \n",
    "        return x, state, attention_weights"
   ]
  },
  {
   "cell_type": "code",
   "execution_count": 28,
   "id": "d701bc04",
   "metadata": {},
   "outputs": [],
   "source": [
    "loss_object = keras.losses.SparseCategoricalCrossentropy(from_logits=False)\n",
    "\n",
    "\n",
    "#loss function masks our predictions with the labels, so\n",
    "#padded positions on the label are also removed from the predictions, and we only\n",
    "#compute our loss using the non zero elements on both the label and predictions.\n",
    "def loss_function(real, pred):\n",
    "    mask = tf.math.logical_not(tf.math.equal(real, 0))\n",
    "    mask = tf.cast(mask, dtype=loss_.dtype)\n",
    "    \n",
    "    loss = loss_object(real, pred)\n",
    "    loss *= mask\n",
    "    return tf.reduce_mean(loss)"
   ]
  },
  {
   "cell_type": "code",
   "execution_count": 29,
   "id": "e07716dd",
   "metadata": {},
   "outputs": [],
   "source": [
    "@tf.function\n",
    "def train_step(inp, targ, enc_hidden, max_gradient_norm=5):\n",
    "    loss = 0\n",
    "    with tf.GradientTape() as tape:\n",
    "        \n",
    "        enc_output, enc_hidden = encoder(inp, enc_hidden)\n",
    "        dec_hidden = enc_hidden\n",
    "        dec_input = tf.expand_dims([start] * BATCH_SIZE, 1)\n",
    "        \n",
    "        # Teacher forcing - feeding the target as the next input\n",
    "        for t in range(1, targ.shape[1]):\n",
    "            # passing enc_output to the decoder\n",
    "            predictions, dec_hidden, _ = decoder(dec_input,dec_hidden, enc_output)\n",
    "            loss += loss_function(targ[:, t], predictions)\n",
    "            # using teacher forcing\n",
    "            dec_input = tf.expand_dims(targ[:, t], 1)\n",
    "            \n",
    "    batch_loss = (loss / int(targ.shape[1]))\n",
    "    variables = encoder.trainable_variables + decoder.trainable_variables\n",
    "    \n",
    "    gradients = tape.gradient(loss, variables)\n",
    "    # Gradient clipping\n",
    "    clipped_gradients, _ = tf.clip_by_global_norm(gradients, max_gradient_norm)\n",
    "    optimizer.apply_gradients(zip(clipped_gradients, variables))\n",
    "    return batch_loss"
   ]
  },
  {
   "cell_type": "code",
   "execution_count": 35,
   "id": "73ea014e",
   "metadata": {},
   "outputs": [],
   "source": [
    "steps_per_epoch = BUFFER_SIZE // BATCH_SIZE\n",
    "print(f\"Steps per Epoch = {steps_per_epoch}\")\n",
    "\n",
    "#define our hyperparameters\n",
    "EPOCHS = 2\n",
    "vocab_size = end + 2\n",
    "embedding_dim = 128\n",
    "units = 256 "
   ]
  },
  {
   "cell_type": "code",
   "execution_count": 34,
   "id": "b8a5d642",
   "metadata": {},
   "outputs": [],
   "source": [
    "# init model\n",
    "encoder = Encoder(vocab_size, embedding_dim, units, BATCH_SIZE)\n",
    "decoder = Decoder(vocab_size, embedding_dim, units, BATCH_SIZE)\n",
    "\n",
    "# Learning rate scheduler\n",
    "lr_schedule = tf.keras.optimizers.schedules.InverseTimeDecay(0.001,decay_steps=steps_per_epoch*(EPOCHS/2)\n",
    "                                                             ,decay_rate=2,staircase=False)\n",
    "optimizer = tf.keras.optimizers.Adam(lr_schedule)"
   ]
  },
  {
   "cell_type": "code",
   "execution_count": 36,
   "id": "e4d6815b",
   "metadata": {},
   "outputs": [
    {
     "name": "stdout",
     "output_type": "stream",
     "text": [
      "Starting Training. Total number of steps / epoch:  1562\n",
      "Epoch 1 Batch 0 Loss 2.128992\n",
      "Epoch 1 Batch 100 Loss 1.686817\n",
      "Epoch 1 Batch 200 Loss 1.515625\n",
      "Epoch 1 Batch 300 Loss 1.483473\n",
      "Epoch 1 Batch 400 Loss 1.411534\n",
      "Epoch 1 Batch 500 Loss 1.359428\n",
      "Epoch 1 Batch 600 Loss 1.448738\n",
      "Epoch 1 Batch 700 Loss 1.455730\n",
      "Epoch 1 Batch 800 Loss 1.359153\n",
      "Epoch 1 Batch 900 Loss 1.423862\n",
      "Epoch 1 Batch 1000 Loss 1.381095\n",
      "Epoch 1 Batch 1100 Loss 1.362542\n",
      "Epoch 1 Batch 1200 Loss 1.281053\n",
      "Epoch 1 Batch 1300 Loss 1.306504\n",
      "Epoch 1 Batch 1400 Loss 1.351558\n",
      "Epoch 1 Batch 1500 Loss 1.353919\n",
      "Epoch 2 Batch 0 Loss 1.268424\n",
      "Epoch 2 Batch 100 Loss 1.346206\n",
      "Epoch 2 Batch 200 Loss 1.359361\n",
      "Epoch 2 Batch 300 Loss 1.403513\n",
      "Epoch 2 Batch 400 Loss 1.303977\n",
      "Epoch 2 Batch 500 Loss 1.384593\n",
      "Epoch 2 Batch 600 Loss 1.273311\n",
      "Epoch 2 Batch 700 Loss 1.263464\n",
      "Epoch 2 Batch 800 Loss 1.326787\n",
      "Epoch 2 Batch 900 Loss 1.265490\n",
      "Epoch 2 Batch 1000 Loss 1.398102\n",
      "Epoch 2 Batch 1100 Loss 1.345067\n",
      "Epoch 2 Batch 1200 Loss 1.274714\n",
      "Epoch 2 Batch 1300 Loss 1.309278\n",
      "Epoch 2 Batch 1400 Loss 1.262946\n",
      "Epoch 2 Batch 1500 Loss 1.254741\n",
      "Epoch 2 Loss 1.285438\n"
     ]
    }
   ],
   "source": [
    "print(\"Starting Training. Total number of steps / epoch: \", steps_per_epoch)\n",
    "for epoch in range(EPOCHS):\n",
    "    enc_hidden = encoder.initialize_hidden_state()\n",
    "    total_loss = 0\n",
    "    for (batch, (art, smry)) in enumerate(train_dataset.take(steps_per_epoch)):\n",
    "        batch_loss = train_step(art, smry, enc_hidden)\n",
    "        total_loss += batch_loss\n",
    "        if batch % 100 == 0:\n",
    "            print('Epoch {} Batch {} Loss {:.6f}'.format(epoch + 1, batch,batch_loss.numpy())) # end print\n",
    "    print('Epoch {} Loss {:.6f}'.format(epoch + 1, total_loss / steps_per_epoch))"
   ]
  },
  {
   "cell_type": "code",
   "execution_count": 45,
   "id": "d1a45714",
   "metadata": {},
   "outputs": [
    {
     "name": "stdout",
     "output_type": "stream",
     "text": [
      "Model: \"encoder_1\"\n",
      "_________________________________________________________________\n",
      "Layer (type)                 Output Shape              Param #   \n",
      "=================================================================\n",
      "embedding_2 (Embedding)      multiple                  4211072   \n",
      "_________________________________________________________________\n",
      "bidirectional_1 (Bidirection multiple                  592896    \n",
      "_________________________________________________________________\n",
      "dense_4 (Dense)              multiple                  131328    \n",
      "=================================================================\n",
      "Total params: 4,935,296\n",
      "Trainable params: 4,935,296\n",
      "Non-trainable params: 0\n",
      "_________________________________________________________________\n"
     ]
    }
   ],
   "source": [
    "encoder.summary()"
   ]
  },
  {
   "cell_type": "code",
   "execution_count": 46,
   "id": "477f5236",
   "metadata": {},
   "outputs": [
    {
     "name": "stdout",
     "output_type": "stream",
     "text": [
      "Model: \"decoder_1\"\n",
      "_________________________________________________________________\n",
      "Layer (type)                 Output Shape              Param #   \n",
      "=================================================================\n",
      "embedding_3 (Embedding)      multiple                  4211072   \n",
      "_________________________________________________________________\n",
      "gru_3 (GRU)                  multiple                  689664    \n",
      "_________________________________________________________________\n",
      "fc1 (Dense)                  multiple                  8455043   \n",
      "_________________________________________________________________\n",
      "bahdanau_attention_1 (Bahdan multiple                  197377    \n",
      "=================================================================\n",
      "Total params: 13,553,156\n",
      "Trainable params: 13,553,156\n",
      "Non-trainable params: 0\n",
      "_________________________________________________________________\n"
     ]
    }
   ],
   "source": [
    "decoder.summary()"
   ]
  },
  {
   "cell_type": "markdown",
   "id": "97e66655",
   "metadata": {},
   "source": [
    "# Generating Summary"
   ]
  },
  {
   "cell_type": "markdown",
   "id": "6a689cb6",
   "metadata": {},
   "source": [
    "## Greedy algorithm"
   ]
  },
  {
   "cell_type": "code",
   "execution_count": 47,
   "id": "fa0c393d",
   "metadata": {},
   "outputs": [],
   "source": [
    "BATCH_SIZE = 1\n",
    "# Create encoder and decoder objects\n",
    "encoder_1 = Encoder(vocab_size, embedding_dim, units, BATCH_SIZE)\n",
    "decoder_1 = Decoder(vocab_size, embedding_dim, units, BATCH_SIZE)"
   ]
  },
  {
   "cell_type": "code",
   "execution_count": 48,
   "id": "d31e0689",
   "metadata": {},
   "outputs": [],
   "source": [
    "# function for plotting the attention weights\n",
    "def plot_attention(attention, article, summary):\n",
    "    fig = plt.figure(figsize=(10,10))\n",
    "    ax = fig.add_subplot(1, 1, 1)\n",
    "    # for scales\n",
    "    ax.matshow(attention, cmap='cividis')\n",
    "    fontdict = {'fontsize': 14}\n",
    "    ax.set_xticklabels([''] + article, fontdict=fontdict, rotation=90)\n",
    "    ax.set_yticklabels([''] + summary, fontdict=fontdict)\n",
    "    ax.xaxis.set_major_locator(ticker.MultipleLocator(1))\n",
    "    ax.yaxis.set_major_locator(ticker.MultipleLocator(1))\n",
    "    plt.show()"
   ]
  },
  {
   "cell_type": "code",
   "execution_count": 56,
   "id": "a3a1954a",
   "metadata": {},
   "outputs": [],
   "source": [
    "def greedy_search(article,art_max_len = 128,smry_max_len = 50):\n",
    "    # To store attention plots of the output\n",
    "    attention_plot = np.zeros((smry_max_len, art_max_len))\n",
    "    #preprocessing\n",
    "    tokens = tokenizer.encode(article) \n",
    "    if len(tokens) > art_max_len:\n",
    "        tokens = tokens[:art_max_len]\n",
    "\n",
    "    inputs = sequence.pad_sequences([tokens], padding='post',\n",
    "                                 maxlen=art_max_len).squeeze()\n",
    "    inputs = tf.expand_dims(tf.convert_to_tensor(inputs), 0)\n",
    "    \n",
    "    # output summary tokens will be stored in this\n",
    "    # feed to Model\n",
    "    summary = ''\n",
    "\n",
    "    hidden = [tf.zeros((1, units)) for i in range(2)] #BiRNN\n",
    "    enc_out, enc_hidden = encoder(inputs, hidden)\n",
    "\n",
    "    dec_hidden = enc_hidden\n",
    "    dec_input = tf.expand_dims([start], 0)\n",
    "\n",
    "    for t in range(smry_max_len):\n",
    "        predictions, dec_hidden, attention_weights = decoder(dec_input, dec_hidden, enc_out)\n",
    "        predicted_id = tf.argmax(predictions[0]).numpy()\n",
    "        \n",
    "        if predicted_id == end:\n",
    "            return summary, article, attention_plot\n",
    "        \n",
    "        # storing the attention weights to plot later on\n",
    "        # to print attention plot\n",
    "        attention_weights = tf.reshape(attention_weights, (-1, ))\n",
    "        attention_plot[t] = attention_weights.numpy()\n",
    "        \n",
    "        #adding output token to summary\n",
    "        summary += tokenizer.decode([predicted_id])\n",
    "        \n",
    "        # the predicted ID is fed back into the model\n",
    "        dec_input = tf.expand_dims([predicted_id], 0)\n",
    "\n",
    "    return summary, article, attention_plot"
   ]
  },
  {
   "cell_type": "code",
   "execution_count": 57,
   "id": "6bee5f53",
   "metadata": {},
   "outputs": [],
   "source": [
    "def summarize(article, algo='greedy'):\n",
    "    if algo == 'greedy':\n",
    "        summary, article, attention_plot = greedy_search(article)\n",
    "    else:\n",
    "        print(\"Algorithm {} not implemented\".format(algo))\n",
    "        return\n",
    "    print('Input: %s' % (article))\n",
    "    print('** Predicted Summary: {}'.format(summary))\n",
    "    attention_plot =  attention_plot[:len(summary.split(' ')), :len(article.split(' '))]\n",
    "    plot_attention(attention_plot, article.split(' '),\n",
    "    summary.split(' '))"
   ]
  },
  {
   "cell_type": "code",
   "execution_count": 58,
   "id": "3780678b",
   "metadata": {},
   "outputs": [
    {
     "name": "stdout",
     "output_type": "stream",
     "text": [
      "Input: president georgi parvanov summoned france 's ambassador on wednesday in a show of displeasure over comments from french president \\jacques chirac chiding east european nations for their support of washington on the issue of iraq .\n",
      "** Predicted Summary: eu to be says u.s. to be in iraq\n"
     ]
    },
    {
     "name": "stderr",
     "output_type": "stream",
     "text": [
      "C:\\Users\\Osama Ismael\\AppData\\Local\\Temp\\ipykernel_11612\\550650750.py:9: UserWarning: FixedFormatter should only be used together with FixedLocator\n",
      "  ax.set_xticklabels([''] + article, fontdict=fontdict, rotation=90)\n",
      "C:\\Users\\Osama Ismael\\AppData\\Local\\Temp\\ipykernel_11612\\550650750.py:10: UserWarning: FixedFormatter should only be used together with FixedLocator\n",
      "  ax.set_yticklabels([''] + summary, fontdict=fontdict)\n"
     ]
    },
    {
     "data": {
      "image/png": "[encoded data removed]",
      "text/plain": [
       "<Figure size 720x720 with 1 Axes>"
      ]
     },
     "metadata": {
      "needs_background": "light"
     },
     "output_type": "display_data"
    }
   ],
   "source": [
    "txt = \"president georgi parvanov summoned france 's ambassador on wednesday in a show of displeasure over comments from french president \\jacques chirac chiding east european nations for their support of washington on the issue of iraq .\"\n",
    "summarize(txt.lower())"
   ]
  },
  {
   "cell_type": "code",
   "execution_count": 59,
   "id": "b08ce95b",
   "metadata": {},
   "outputs": [
    {
     "name": "stdout",
     "output_type": "stream",
     "text": [
      "Input: charles kennedy , leader of britain's third-ranked liberal democrats ,announced saturday he was quitting with immediate effect and would not standin a new leadership election . us president george w. bush on saturday called forextending tax cuts adopted in his first term , which he said had bolstered economicgrowth.\n",
      "** Predicted Summary: u.s. president to be in new year in china\n"
     ]
    },
    {
     "name": "stderr",
     "output_type": "stream",
     "text": [
      "C:\\Users\\Osama Ismael\\AppData\\Local\\Temp\\ipykernel_11612\\550650750.py:9: UserWarning: FixedFormatter should only be used together with FixedLocator\n",
      "  ax.set_xticklabels([''] + article, fontdict=fontdict, rotation=90)\n",
      "C:\\Users\\Osama Ismael\\AppData\\Local\\Temp\\ipykernel_11612\\550650750.py:10: UserWarning: FixedFormatter should only be used together with FixedLocator\n",
      "  ax.set_yticklabels([''] + summary, fontdict=fontdict)\n"
     ]
    },
    {
     "data": {
      "image/png": "[encoded data removed]",
      "text/plain": [
       "<Figure size 720x720 with 1 Axes>"
      ]
     },
     "metadata": {
      "needs_background": "light"
     },
     "output_type": "display_data"
    }
   ],
   "source": [
    "txt = \"charles kennedy , leader of britain's third-ranked liberal democrats ,\\\n",
    "announced saturday he was quitting with immediate effect and would not stand\\\n",
    "in a new leadership election . us president george w. bush on saturday called for\\\n",
    "extending tax cuts adopted in his first term , which he said had bolstered economic\\\n",
    "growth.\"\n",
    "summarize(txt.lower())"
   ]
  },
  {
   "cell_type": "code",
   "execution_count": null,
   "id": "a18f0368",
   "metadata": {},
   "outputs": [],
   "source": []
  }
 ],
 "metadata": {
  "kernelspec": {
   "display_name": "Python 3 (ipykernel)",
   "language": "python",
   "name": "python3"
  },
  "language_info": {
   "codemirror_mode": {
    "name": "ipython",
    "version": 3
   },
   "file_extension": ".py",
   "mimetype": "text/x-python",
   "name": "python",
   "nbconvert_exporter": "python",
   "pygments_lexer": "ipython3",
   "version": "3.9.12"
  }
 },
 "nbformat": 4,
 "nbformat_minor": 5
}
